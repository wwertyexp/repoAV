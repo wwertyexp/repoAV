{
 "cells": [
  {
   "cell_type": "code",
   "execution_count": 2,
   "id": "61caf1f9",
   "metadata": {},
   "outputs": [],
   "source": [
    "\n",
    "import cv2\n",
    "import matplotlib.pyplot as plt\n",
    "import pandas as pd\n",
    "import os\n",
    "import numpy as np\n",
    "from tqdm import tqdm\n",
    "\n",
    "import random\n",
    "\n",
    "SEED = 42 # OK\n",
    "SEED = 43\n",
    "BEARD, MOUSTACHE, GLASSES = 0, 1, 2\n",
    "random.seed(SEED)"
   ]
  },
  {
   "cell_type": "code",
   "execution_count": 5,
   "id": "ab306c46",
   "metadata": {},
   "outputs": [
    {
     "ename": "FileNotFoundError",
     "evalue": "[Errno 2] No such file or directory: 'augmLabels.csv'",
     "output_type": "error",
     "traceback": [
      "\u001b[0;31m---------------------------------------------------------------------------\u001b[0m",
      "\u001b[0;31mFileNotFoundError\u001b[0m                         Traceback (most recent call last)",
      "\u001b[0;32m/tmp/ipykernel_934001/3107188066.py\u001b[0m in \u001b[0;36m<module>\u001b[0;34m\u001b[0m\n\u001b[1;32m      4\u001b[0m \u001b[0mi\u001b[0m\u001b[0;34m=\u001b[0m\u001b[0;36m0\u001b[0m\u001b[0;34m\u001b[0m\u001b[0;34m\u001b[0m\u001b[0m\n\u001b[1;32m      5\u001b[0m \u001b[0mj\u001b[0m\u001b[0;34m=\u001b[0m\u001b[0;36m0\u001b[0m\u001b[0;34m\u001b[0m\u001b[0;34m\u001b[0m\u001b[0m\n\u001b[0;32m----> 6\u001b[0;31m \u001b[0;32mfor\u001b[0m \u001b[0mline\u001b[0m \u001b[0;32min\u001b[0m \u001b[0mtqdm\u001b[0m\u001b[0;34m(\u001b[0m\u001b[0mopen\u001b[0m\u001b[0;34m(\u001b[0m\u001b[0mlabels_csv\u001b[0m\u001b[0;34m)\u001b[0m\u001b[0;34m)\u001b[0m\u001b[0;34m:\u001b[0m\u001b[0;34m\u001b[0m\u001b[0;34m\u001b[0m\u001b[0m\n\u001b[0m\u001b[1;32m      7\u001b[0m     \u001b[0;32mif\u001b[0m \u001b[0mi\u001b[0m\u001b[0;34m<\u001b[0m\u001b[0;34m(\u001b[0m\u001b[0mint\u001b[0m\u001b[0;34m(\u001b[0m\u001b[0;34m(\u001b[0m\u001b[0;36m13\u001b[0m\u001b[0;34m*\u001b[0m\u001b[0;36m9770\u001b[0m\u001b[0;34m)\u001b[0m\u001b[0;34m/\u001b[0m\u001b[0;36m4\u001b[0m\u001b[0;34m)\u001b[0m\u001b[0;34m)\u001b[0m\u001b[0;34m:\u001b[0m\u001b[0;34m\u001b[0m\u001b[0;34m\u001b[0m\u001b[0m\n\u001b[1;32m      8\u001b[0m         \u001b[0mfilename\u001b[0m\u001b[0;34m,\u001b[0m \u001b[0mbeard\u001b[0m\u001b[0;34m,\u001b[0m \u001b[0mmoustache\u001b[0m\u001b[0;34m,\u001b[0m \u001b[0mglasses\u001b[0m \u001b[0;34m=\u001b[0m \u001b[0mline\u001b[0m\u001b[0;34m.\u001b[0m\u001b[0msplit\u001b[0m\u001b[0;34m(\u001b[0m\u001b[0;34m','\u001b[0m\u001b[0;34m)\u001b[0m\u001b[0;34m\u001b[0m\u001b[0;34m\u001b[0m\u001b[0m\n",
      "\u001b[0;31mFileNotFoundError\u001b[0m: [Errno 2] No such file or directory: 'augmLabels.csv'"
     ]
    }
   ],
   "source": [
    "\n",
    "dataset_folder = 'augmented'\n",
    "labels_csv = 'augmLabels.csv'\n",
    "X, y = [], []\n",
    "i=0\n",
    "j=0\n",
    "for line in tqdm(open(labels_csv)):\n",
    "    if i<(int((13*9770)/4)):\n",
    "        filename, beard, moustache, glasses = line.split(',')\n",
    "        beard, moustache, glasses = int(beard), int(moustache), int(glasses)\n",
    "        img = cv2.imread(os.path.join(dataset_folder, filename), cv2.IMREAD_UNCHANGED)\n",
    "\n",
    "        X.append(img)\n",
    "        y.append([filename,beard, moustache, glasses])\n",
    "    else:\n",
    "        i=0\n",
    "        X = np.array(X)\n",
    "        y = np.array(y)\n",
    "        name='X_augmented_'+str(j)+'.npy'\n",
    "        with open(name, 'wb') as f:\n",
    "            np.save(f, X)\n",
    "            np.save(f, y)\n",
    "        del X\n",
    "        del y\n",
    "        X, y = [], []\n",
    "        j=j+1\n",
    "        \n",
    "    i=i+1\n",
    "\n",
    "assert (len(X) == len(y))"
   ]
  },
  {
   "cell_type": "code",
   "execution_count": 4,
   "id": "9f464eed",
   "metadata": {},
   "outputs": [
    {
     "data": {
      "text/plain": [
       "['0_2.png',\n",
       " '0_8.png',\n",
       " '1_0.png',\n",
       " '1_1.png',\n",
       " '1_4.png',\n",
       " '2_3.png',\n",
       " '2_5.png',\n",
       " '2_6.png',\n",
       " '2_9.png',\n",
       " '_10.png',\n",
       " '_7.png']"
      ]
     },
     "execution_count": 4,
     "metadata": {},
     "output_type": "execute_result"
    }
   ],
   "source": [
    "import constants\n",
    "os.listdir(constants.GLASSES_PNG_FOLDER)"
   ]
  },
  {
   "cell_type": "code",
   "execution_count": null,
   "id": "58b2d0be",
   "metadata": {},
   "outputs": [],
   "source": [
    "\n",
    "outfile = TemporaryFile()\n",
    "np.save(outfile, X)"
   ]
  },
  {
   "cell_type": "code",
   "execution_count": null,
   "id": "1910ab82",
   "metadata": {},
   "outputs": [],
   "source": [
    "with open('X_augmented.npy', 'wb') as f:\n",
    "\n",
    "    np.save(f, X)\n"
   ]
  },
  {
   "cell_type": "code",
   "execution_count": null,
   "id": "9132486c",
   "metadata": {},
   "outputs": [],
   "source": [
    "file_name='X_augmented.npy'\n",
    "new_data = np.mat(np.load(file_name, allow_pickle=True))          \n",
    "if len(new_file) == 0:         \n",
    "    new_file = new_data     \n",
    "else:         \n",
    "    new_file = np.concatenate((new_file, new_data), axis=0)"
   ]
  },
  {
   "cell_type": "code",
   "execution_count": 17,
   "id": "c738f8fb",
   "metadata": {},
   "outputs": [],
   "source": [
    "import h5py\n",
    "import numpy as np\n",
    "\n",
    "\n",
    "with h5py.File(\"X_augmented.hdf5\", \"w\") as f:\n",
    "    dset = f.create_dataset(\"X\", (13*9770,200,200,3), dtype='uint8')"
   ]
  },
  {
   "cell_type": "code",
   "execution_count": 3,
   "id": "f209555d",
   "metadata": {
    "scrolled": true
   },
   "outputs": [
    {
     "name": "stderr",
     "output_type": "stream",
     "text": [
      "127010it [00:00, 448371.75it/s]\n"
     ]
    }
   ],
   "source": [
    "\n",
    "\n",
    "dataset_folder = 'augmented'\n",
    "labels_csv = 'augmLabels.csv'\n",
    "X, y = [], []\n",
    "i=0\n",
    "for line in tqdm(open(labels_csv)):\n",
    "    \n",
    "    if i==0:\n",
    "        filename, beard, moustache, glasses = line.split(',')\n",
    "        beard, moustache, glasses = int(beard), int(moustache), int(glasses)\n",
    "        img = cv2.imread(os.path.join(dataset_folder, filename), cv2.IMREAD_UNCHANGED)\n",
    "\n",
    "        X.append(img)\n",
    "        y.append([filename,beard, moustache, glasses])\n",
    "    i=i+1\n",
    "dset[0]=img"
   ]
  },
  {
   "cell_type": "code",
   "execution_count": 3,
   "id": "dbfc815d",
   "metadata": {},
   "outputs": [],
   "source": [
    "import h5py\n",
    "import numpy as np\n",
    "\n",
    "dt = h5py.string_dtype(encoding='utf-8')\n",
    "h5_file = h5py.File('X_augmented.hdf5', 'w')\n",
    "X = h5_file.create_dataset(\"X\", (13*9770,200,200,3), dtype='uint8')\n",
    "y = h5_file.create_dataset(\"y\", (13*9770,4), dtype=dt)\n"
   ]
  },
  {
   "cell_type": "code",
   "execution_count": 4,
   "id": "3a9f2f0c",
   "metadata": {},
   "outputs": [
    {
     "name": "stderr",
     "output_type": "stream",
     "text": [
      "127010it [09:02, 234.02it/s]\n"
     ]
    }
   ],
   "source": [
    "dataset_folder = 'augmented'\n",
    "labels_csv = 'augmLabels.csv'\n",
    "\n",
    "i=0\n",
    "for line in tqdm(open(labels_csv)):\n",
    "    filename, beard, moustache, glasses = line.split(',')\n",
    "    beard, moustache, glasses = int(beard), int(moustache), int(glasses)\n",
    "    img = cv2.imread(os.path.join(dataset_folder, filename), cv2.IMREAD_UNCHANGED)\n",
    "\n",
    "    X[i]=img\n",
    "    y[i]=([filename,str(beard), str(moustache), str(glasses)])\n",
    "    \n",
    "    i=i+1\n",
    "\n",
    "assert (len(X) == len(y))"
   ]
  },
  {
   "cell_type": "code",
   "execution_count": 5,
   "id": "6fffb739",
   "metadata": {},
   "outputs": [],
   "source": [
    "h5_file.close()"
   ]
  },
  {
   "cell_type": "code",
   "execution_count": null,
   "id": "01d11239",
   "metadata": {},
   "outputs": [],
   "source": [
    "h5_file.close()\n",
    "\n",
    "\n",
    "\n",
    "h5_file = h5py.File('X_augmented.h5', 'r')\n",
    "f = h5_file\n",
    "\n",
    "h5_file.close()"
   ]
  }
 ],
 "metadata": {
  "kernelspec": {
   "display_name": "Python 3 (ipykernel)",
   "language": "python",
   "name": "python3"
  },
  "language_info": {
   "codemirror_mode": {
    "name": "ipython",
    "version": 3
   },
   "file_extension": ".py",
   "mimetype": "text/x-python",
   "name": "python",
   "nbconvert_exporter": "python",
   "pygments_lexer": "ipython3",
   "version": "3.8.10"
  }
 },
 "nbformat": 4,
 "nbformat_minor": 5
}
